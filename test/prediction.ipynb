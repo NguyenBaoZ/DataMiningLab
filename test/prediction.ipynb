{
 "cells": [
  {
   "cell_type": "code",
   "execution_count": 50,
   "metadata": {},
   "outputs": [
    {
     "name": "stdout",
     "output_type": "stream",
     "text": [
      "Cross-Validation R-squared Scores:\n",
      "[0.82508079 0.64903793 0.65212548 0.72564213 0.72538675 0.80023196\n",
      " 0.56570465 0.73002621 0.44895677 0.73856873]\n",
      "Mean R-squared: 0.6860761400536313\n",
      "Mean Squared Error on Test Set: 2571.543701156157\n",
      "original value:  205.07\n",
      "predict value:  224.85989999999984\n",
      "Deviation from the original value:  9.650314526746891 %\n"
     ]
    },
    {
     "name": "stderr",
     "output_type": "stream",
     "text": [
      "/Library/Frameworks/Python.framework/Versions/3.10/lib/python3.10/site-packages/sklearn/base.py:465: UserWarning: X does not have valid feature names, but RandomForestRegressor was fitted with feature names\n",
      "  warnings.warn(\n"
     ]
    }
   ],
   "source": [
    "import numpy as np\n",
    "import pandas as pd\n",
    "from sklearn.ensemble import RandomForestRegressor\n",
    "from sklearn.model_selection import cross_val_score\n",
    "from sklearn.model_selection import train_test_split\n",
    "from sklearn.metrics import mean_squared_error\n",
    "\n",
    "# 1. Đọc dữ liệu từ tệp CSV\n",
    "data = pd.read_csv('employee_data.csv')\n",
    "\n",
    "# 2. Xử lý dữ liệu nếu cần (loại bỏ dữ liệu nhiễu, xử lý dữ liệu thiếu, mã hóa biến phân loại, ...)\n",
    "\n",
    "# 3. Chia dữ liệu thành tập huấn luyện và tập kiểm tra\n",
    "X = data[['sub_health_h', 'sub_sociality_h', 'un_efficient_date','efficacy_date']]\n",
    "y = data['actual_efficacy']\n",
    "X_train, X_test, y_train, y_test = train_test_split(X, y, test_size=0.2, random_state=0)\n",
    "\n",
    "# 4. Tạo mô hình Random Forest Regressor\n",
    "model = RandomForestRegressor(n_estimators=100, random_state=0)\n",
    "\n",
    "# 5. Huấn luyện mô hình trên tập huấn luyện\n",
    "model.fit(X_train, y_train)\n",
    "\n",
    "# 6. Đánh giá mô hình sử dụng R-squared\n",
    "scores = cross_val_score(model, X_train, y_train, cv=10, scoring='r2')\n",
    "print(\"Cross-Validation R-squared Scores:\")\n",
    "print(scores)\n",
    "print(f\"Mean R-squared: {np.mean(scores)}\")\n",
    "\n",
    "# 7. Dự đoán trên tập kiểm tra\n",
    "y_pred = model.predict(X_test)\n",
    "\n",
    "# 8. Đánh giá mô hình trên tập kiểm tra (sử dụng Mean Squared Error)\n",
    "mse = mean_squared_error(y_test, y_pred)\n",
    "print(\"Mean Squared Error on Test Set:\", mse)\n",
    "\n",
    "# Make predictions for a new employee\n",
    "# get data by employee from API here\n",
    "sub_ID = 98000002\n",
    "sub_health_h = 0.573\n",
    "sub_sociality_h = 0.876\n",
    "un_efficient_date = 75\n",
    "efficacy_date = 370\n",
    "actual_efficacy = 205.07\n",
    "\n",
    "new_employee = np.array([[sub_health_h,sub_sociality_h,un_efficient_date,efficacy_date]])  # Replace with the actual values\n",
    "prediction = model.predict(new_employee)\n",
    "      \n",
    "rate = abs(prediction[0] - actual_efficacy) /actual_efficacy * 100\n",
    "# ve bieu do\n",
    "print(\"original value: \", actual_efficacy)\n",
    "print(\"predict value: \", prediction[0])\n",
    "print(\"Deviation from the original value: \", rate, \"%\")"
   ]
  },
  {
   "cell_type": "code",
   "execution_count": null,
   "metadata": {},
   "outputs": [],
   "source": []
  }
 ],
 "metadata": {
  "kernelspec": {
   "display_name": "Python 3",
   "language": "python",
   "name": "python3"
  },
  "language_info": {
   "codemirror_mode": {
    "name": "ipython",
    "version": 3
   },
   "file_extension": ".py",
   "mimetype": "text/x-python",
   "name": "python",
   "nbconvert_exporter": "python",
   "pygments_lexer": "ipython3",
   "version": "3.10.11"
  }
 },
 "nbformat": 4,
 "nbformat_minor": 2
}
